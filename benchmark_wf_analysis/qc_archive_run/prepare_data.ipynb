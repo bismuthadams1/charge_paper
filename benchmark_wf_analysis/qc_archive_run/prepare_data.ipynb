{
 "cells": [
  {
   "cell_type": "markdown",
   "metadata": {},
   "source": [
    "Monitor the Calculations"
   ]
  },
  {
   "cell_type": "code",
   "execution_count": 2,
   "metadata": {},
   "outputs": [],
   "source": [
    "from qcportal import PortalClient\n",
    "from openff.toolkit import Molecule\n",
    "from qcelemental.models import Molecule as QCMolecule\n"
   ]
  },
  {
   "cell_type": "markdown",
   "metadata": {},
   "source": [
    "We can explore the existing datasets here"
   ]
  },
  {
   "cell_type": "code",
   "execution_count": 4,
   "metadata": {},
   "outputs": [
    {
     "name": "stdout",
     "output_type": "stream",
     "text": [
      "  id  type            record_count  name\n",
      "----  ------------  --------------  --------------------------------\n",
      "   2  optimization            6261  PubChem_I_fragments\n",
      "   7  optimization             470  conformer-test\n",
      "   8  singlepoint              416  Conformer HF optimized molecules\n",
      "  11  optimization              36  hf_geoms\n",
      "  12  singlepoint             1428  ESP 50k opt Iodines\n",
      "  13  singlepoint              416  Flexible set wb97xd\n"
     ]
    }
   ],
   "source": [
    "ADDRESS = \"http://127.0.0.1:7777\"\n",
    "client = PortalClient(address=ADDRESS)#, username=USERNAME, password=PASSWORD)\n",
    "client.print_datasets_table()\n"
   ]
  },
  {
   "cell_type": "markdown",
   "metadata": {},
   "source": [
    "Here we can monitor the datasets status"
   ]
  },
  {
   "cell_type": "code",
   "execution_count": 2,
   "metadata": {},
   "outputs": [
    {
     "ename": "NameError",
     "evalue": "name 'client' is not defined",
     "output_type": "error",
     "traceback": [
      "\u001b[31m---------------------------------------------------------------------------\u001b[39m",
      "\u001b[31mNameError\u001b[39m                                 Traceback (most recent call last)",
      "\u001b[36mCell\u001b[39m\u001b[36m \u001b[39m\u001b[32mIn[2]\u001b[39m\u001b[32m, line 1\u001b[39m\n\u001b[32m----> \u001b[39m\u001b[32m1\u001b[39m dataset = \u001b[43mclient\u001b[49m.get_dataset_by_id(\u001b[32m7\u001b[39m)\n\u001b[32m      2\u001b[39m dataset.status_table()\n",
      "\u001b[31mNameError\u001b[39m: name 'client' is not defined"
     ]
    }
   ],
   "source": [
    "dataset = client.get_dataset_by_id(7)\n",
    "dataset.status_table()"
   ]
  }
 ],
 "metadata": {
  "kernelspec": {
   "display_name": "Python 3",
   "language": "python",
   "name": "python3"
  },
  "language_info": {
   "codemirror_mode": {
    "name": "ipython",
    "version": 3
   },
   "file_extension": ".py",
   "mimetype": "text/x-python",
   "name": "python",
   "nbconvert_exporter": "python",
   "pygments_lexer": "ipython3",
   "version": "3.11.9"
  }
 },
 "nbformat": 4,
 "nbformat_minor": 2
}
