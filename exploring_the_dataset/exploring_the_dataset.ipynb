{
 "cells": [
  {
   "cell_type": "code",
   "execution_count": 23,
   "id": "439cb461",
   "metadata": {},
   "outputs": [],
   "source": [
    "import pandas as pd\n",
    "from rdkit.Chem import rdMolDescriptors\n",
    "from rdkit import Chem\n",
    "from rdkit.Chem import rdmolops\n",
    "from tqdm import tqdm\n",
    "import matplotlib.pyplot as plt\n",
    "from collections import defaultdict"
   ]
  },
  {
   "cell_type": "code",
   "execution_count": null,
   "id": "84a6da86",
   "metadata": {},
   "outputs": [],
   "source": [
    "element_dict = defaultdict(int)\n",
    "\n",
    "def element_counter(mol):\n",
    "    \"\"\"\n",
    "    Count the number of each element in a molecule.\n",
    "    \"\"\"\n",
    "\n",
    "    for atom in mol.GetAtoms():\n",
    "        element_dict[atom.GetSymbol()] += 1\n",
    "    \n",
    "    "
   ]
  },
  {
   "cell_type": "code",
   "execution_count": 7,
   "id": "cd9e1a0d",
   "metadata": {},
   "outputs": [],
   "source": [
    "with open('./total_set.smi', 'r') as f:\n",
    "    lines = f.readlines()"
   ]
  },
  {
   "cell_type": "code",
   "execution_count": 13,
   "id": "acdb19f0",
   "metadata": {},
   "outputs": [
    {
     "name": "stderr",
     "output_type": "stream",
     "text": [
      "100%|██████████| 56351/56351 [00:07<00:00, 7138.75it/s]\n"
     ]
    }
   ],
   "source": [
    "rows = []\n",
    "\n",
    "\n",
    "for line in tqdm(lines):\n",
    "    row = {\n",
    "        'SMILES': line.strip(),\n",
    "        'Molecular Weight': None,\n",
    "        'Rotatable Bonds': None,\n",
    "    }\n",
    "    line = line.strip()\n",
    "    if line == '':\n",
    "        continue\n",
    "    try:\n",
    "        mol = Chem.MolFromSmiles(line, )\n",
    "        if mol is None:\n",
    "            print(f\"Invalid SMILES: {line}\")\n",
    "            continue\n",
    "        mol = rdmolops.AddHs(mol)\n",
    "\n",
    "        # Calculate the molecular weight\n",
    "        mw = rdMolDescriptors.CalcExactMolWt(mol)\n",
    "        rotatable_bonds = rdMolDescriptors.CalcNumRotatableBonds(mol)\n",
    "        element_counter(mol)\n",
    "        row['Molecular Weight'] = mw\n",
    "        row['Rotatable Bonds'] = rotatable_bonds\n",
    "        row['SMILES'] = line\n",
    "        rows.append(row)\n",
    "    except Exception as e:\n",
    "        print(f\"Error processing SMILES '{line}': {e}\")"
   ]
  },
  {
   "cell_type": "code",
   "execution_count": 15,
   "id": "ade5b1c7",
   "metadata": {},
   "outputs": [
    {
     "data": {
      "text/html": [
       "<div>\n",
       "<style scoped>\n",
       "    .dataframe tbody tr th:only-of-type {\n",
       "        vertical-align: middle;\n",
       "    }\n",
       "\n",
       "    .dataframe tbody tr th {\n",
       "        vertical-align: top;\n",
       "    }\n",
       "\n",
       "    .dataframe thead th {\n",
       "        text-align: right;\n",
       "    }\n",
       "</style>\n",
       "<table border=\"1\" class=\"dataframe\">\n",
       "  <thead>\n",
       "    <tr style=\"text-align: right;\">\n",
       "      <th></th>\n",
       "      <th>SMILES</th>\n",
       "      <th>Molecular Weight</th>\n",
       "      <th>Rotatable Bonds</th>\n",
       "    </tr>\n",
       "  </thead>\n",
       "  <tbody>\n",
       "    <tr>\n",
       "      <th>0</th>\n",
       "      <td>Brc1nc2cc(I)c(I)cc2[nH]1</td>\n",
       "      <td>447.756906</td>\n",
       "      <td>0</td>\n",
       "    </tr>\n",
       "    <tr>\n",
       "      <th>1</th>\n",
       "      <td>Brc1cc(I)c2cccnc2c1</td>\n",
       "      <td>332.865009</td>\n",
       "      <td>0</td>\n",
       "    </tr>\n",
       "    <tr>\n",
       "      <th>2</th>\n",
       "      <td>Brc1ccc(I)c2cnccc12</td>\n",
       "      <td>332.865009</td>\n",
       "      <td>0</td>\n",
       "    </tr>\n",
       "    <tr>\n",
       "      <th>3</th>\n",
       "      <td>Brc1cc(I)cc2c1NCCC2</td>\n",
       "      <td>336.896309</td>\n",
       "      <td>0</td>\n",
       "    </tr>\n",
       "    <tr>\n",
       "      <th>4</th>\n",
       "      <td>Brc1cc(I)c2c(c1)CCCN2</td>\n",
       "      <td>336.896309</td>\n",
       "      <td>0</td>\n",
       "    </tr>\n",
       "    <tr>\n",
       "      <th>...</th>\n",
       "      <td>...</td>\n",
       "      <td>...</td>\n",
       "      <td>...</td>\n",
       "    </tr>\n",
       "    <tr>\n",
       "      <th>56346</th>\n",
       "      <td>O=Cc1cccc2c1OB(O)[C@@H](Sc1nncs1)C2</td>\n",
       "      <td>292.014765</td>\n",
       "      <td>4</td>\n",
       "    </tr>\n",
       "    <tr>\n",
       "      <th>56347</th>\n",
       "      <td>O=Cc1cccc2c1OB(O)[C@H](Sc1nncs1)C2</td>\n",
       "      <td>292.014765</td>\n",
       "      <td>4</td>\n",
       "    </tr>\n",
       "    <tr>\n",
       "      <th>56348</th>\n",
       "      <td>O=Cc1ccc(C(=O)B(O)O)s1</td>\n",
       "      <td>184.000160</td>\n",
       "      <td>5</td>\n",
       "    </tr>\n",
       "    <tr>\n",
       "      <th>56349</th>\n",
       "      <td>N/N=C\\c1ccc(B(O)O)cc1</td>\n",
       "      <td>164.075708</td>\n",
       "      <td>5</td>\n",
       "    </tr>\n",
       "    <tr>\n",
       "      <th>56350</th>\n",
       "      <td>N/N=C/c1ccc(B(O)O)cc1</td>\n",
       "      <td>164.075708</td>\n",
       "      <td>5</td>\n",
       "    </tr>\n",
       "  </tbody>\n",
       "</table>\n",
       "<p>56351 rows × 3 columns</p>\n",
       "</div>"
      ],
      "text/plain": [
       "                                    SMILES  Molecular Weight  Rotatable Bonds\n",
       "0                 Brc1nc2cc(I)c(I)cc2[nH]1        447.756906                0\n",
       "1                      Brc1cc(I)c2cccnc2c1        332.865009                0\n",
       "2                      Brc1ccc(I)c2cnccc12        332.865009                0\n",
       "3                      Brc1cc(I)cc2c1NCCC2        336.896309                0\n",
       "4                    Brc1cc(I)c2c(c1)CCCN2        336.896309                0\n",
       "...                                    ...               ...              ...\n",
       "56346  O=Cc1cccc2c1OB(O)[C@@H](Sc1nncs1)C2        292.014765                4\n",
       "56347   O=Cc1cccc2c1OB(O)[C@H](Sc1nncs1)C2        292.014765                4\n",
       "56348               O=Cc1ccc(C(=O)B(O)O)s1        184.000160                5\n",
       "56349                N/N=C\\c1ccc(B(O)O)cc1        164.075708                5\n",
       "56350                N/N=C/c1ccc(B(O)O)cc1        164.075708                5\n",
       "\n",
       "[56351 rows x 3 columns]"
      ]
     },
     "execution_count": 15,
     "metadata": {},
     "output_type": "execute_result"
    }
   ],
   "source": [
    "df = pd.DataFrame(rows)\n",
    "df"
   ]
  },
  {
   "cell_type": "code",
   "execution_count": 17,
   "id": "49942a79",
   "metadata": {},
   "outputs": [
    {
     "data": {
      "text/plain": [
       "(162.99824574151168, 54.327649479049526, 32.008226658, 701.540754716)"
      ]
     },
     "execution_count": 17,
     "metadata": {},
     "output_type": "execute_result"
    }
   ],
   "source": [
    "df['Molecular Weight'].mean(), df['Molecular Weight'].std(), df['Molecular Weight'].min(), df['Molecular Weight'].max()"
   ]
  },
  {
   "cell_type": "code",
   "execution_count": 18,
   "id": "24f7cfee",
   "metadata": {},
   "outputs": [
    {
     "data": {
      "text/plain": [
       "(2.6332451952937834, 1.873190477090608, 0, 16)"
      ]
     },
     "execution_count": 18,
     "metadata": {},
     "output_type": "execute_result"
    }
   ],
   "source": [
    "df['Rotatable Bonds'].mean(), df['Rotatable Bonds'].std(), df['Rotatable Bonds'].min(), df['Rotatable Bonds'].max()"
   ]
  },
  {
   "cell_type": "code",
   "execution_count": 31,
   "id": "5b0977b9",
   "metadata": {},
   "outputs": [
    {
     "data": {
      "image/png": "[encoded data removed]",
      "text/plain": [
       "<Figure size 640x480 with 1 Axes>"
      ]
     },
     "metadata": {},
     "output_type": "display_data"
    }
   ],
   "source": [
    "D = dict(element_dict)\n",
    "plt.bar(range(len(D)), list(D.values()), align='center')\n",
    "plt.yscale('log')\n",
    "plt.xticks(range(len(D)), list(D.keys()))\n",
    "plt.xlabel('Element')\n",
    "plt.ylabel('Count')\n",
    "plt.savefig('Element Count in Molecules.png', dpi=300)"
   ]
  }
 ],
 "metadata": {
  "kernelspec": {
   "display_name": "charge_model_env",
   "language": "python",
   "name": "python3"
  },
  "language_info": {
   "codemirror_mode": {
    "name": "ipython",
    "version": 3
   },
   "file_extension": ".py",
   "mimetype": "text/x-python",
   "name": "python",
   "nbconvert_exporter": "python",
   "pygments_lexer": "ipython3",
   "version": "3.11.12"
  }
 },
 "nbformat": 4,
 "nbformat_minor": 5
}
